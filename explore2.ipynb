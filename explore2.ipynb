{
 "cells": [
  {
   "cell_type": "code",
   "execution_count": 1,
   "metadata": {},
   "outputs": [
    {
     "name": "stderr",
     "output_type": "stream",
     "text": [
      "C:\\Users\\PC\\AppData\\Local\\Temp\\ipykernel_9840\\4080736814.py:1: DeprecationWarning: \n",
      "Pyarrow will become a required dependency of pandas in the next major release of pandas (pandas 3.0),\n",
      "(to allow more performant data types, such as the Arrow string type, and better interoperability with other libraries)\n",
      "but was not found to be installed on your system.\n",
      "If this would cause problems for you,\n",
      "please provide us feedback at https://github.com/pandas-dev/pandas/issues/54466\n",
      "        \n",
      "  import pandas as pd\n"
     ]
    }
   ],
   "source": [
    "import pandas as pd"
   ]
  },
  {
   "cell_type": "code",
   "execution_count": 1,
   "metadata": {},
   "outputs": [
    {
     "name": "stderr",
     "output_type": "stream",
     "text": [
      "C:\\Users\\PC\\AppData\\Local\\Temp\\ipykernel_25108\\2172149775.py:1: DeprecationWarning: \n",
      "Pyarrow will become a required dependency of pandas in the next major release of pandas (pandas 3.0),\n",
      "(to allow more performant data types, such as the Arrow string type, and better interoperability with other libraries)\n",
      "but was not found to be installed on your system.\n",
      "If this would cause problems for you,\n",
      "please provide us feedback at https://github.com/pandas-dev/pandas/issues/54466\n",
      "        \n",
      "  import pandas as pd\n",
      "C:\\Users\\PC\\AppData\\Local\\Temp\\ipykernel_25108\\2172149775.py:2: DtypeWarning: Columns (77,79,80,81,82,85,133,134,136,137,148,159,162,163,164,165,166,167,168,169,170,173,174,175,176,177,178,179,180,181,182,183,184,185,186,187,188,189,190,191,192,193,194,195,196,197,198,199,200,201,202,203,204,205,206,207,208) have mixed types. Specify dtype option on import or set low_memory=False.\n",
      "  df = pd.read_csv('data/search_method/cars_filtered.csv')\n"
     ]
    },
    {
     "data": {
      "text/html": [
       "<div>\n",
       "<style scoped>\n",
       "    .dataframe tbody tr th:only-of-type {\n",
       "        vertical-align: middle;\n",
       "    }\n",
       "\n",
       "    .dataframe tbody tr th {\n",
       "        vertical-align: top;\n",
       "    }\n",
       "\n",
       "    .dataframe thead th {\n",
       "        text-align: right;\n",
       "    }\n",
       "</style>\n",
       "<table border=\"1\" class=\"dataframe\">\n",
       "  <thead>\n",
       "    <tr style=\"text-align: right;\">\n",
       "      <th></th>\n",
       "      <th>q_body_type</th>\n",
       "      <th>q_eco</th>\n",
       "      <th>q_speed</th>\n",
       "      <th>q_power</th>\n",
       "      <th>q_engine_size</th>\n",
       "      <th>q_n_cylinders</th>\n",
       "      <th>q_drivetrain</th>\n",
       "      <th>q_length</th>\n",
       "      <th>q_width</th>\n",
       "      <th>q_curb_weight</th>\n",
       "      <th>...</th>\n",
       "      <th>Fuel consumption (economy) - extra urban (CNG)</th>\n",
       "      <th>Fuel consumption (economy) - combined (CNG)</th>\n",
       "      <th>Power (CNG)</th>\n",
       "      <th>Power per litre (CNG)</th>\n",
       "      <th>Torque (CNG)</th>\n",
       "      <th>Acceleration 0 - 100 km/h (CNG)</th>\n",
       "      <th>Maximum speed (CNG)</th>\n",
       "      <th>Fuel consumption (economy) - urban (CNG) (NEDC, WLTP equivalent)</th>\n",
       "      <th>Fuel consumption (economy) - extra urban (CNG) (NEDC, WLTP equivalent)</th>\n",
       "      <th>Fuel consumption (economy) - combined (CNG) (NEDC, WLTP equivalent)</th>\n",
       "    </tr>\n",
       "  </thead>\n",
       "  <tbody>\n",
       "    <tr>\n",
       "      <th>0</th>\n",
       "      <td>SUV, 5 Doors, 5 Seats</td>\n",
       "      <td>Euro 5</td>\n",
       "      <td>210 km/h | 130.49 mph</td>\n",
       "      <td>175  Hp, 270  Nm</td>\n",
       "      <td>1.3 l</td>\n",
       "      <td>4, Inline</td>\n",
       "      <td>Front wheel drive. Internal Combustion engine....</td>\n",
       "      <td>4115  mm</td>\n",
       "      <td>1777  mm</td>\n",
       "      <td>1280  kg</td>\n",
       "      <td>...</td>\n",
       "      <td>NaN</td>\n",
       "      <td>NaN</td>\n",
       "      <td>NaN</td>\n",
       "      <td>NaN</td>\n",
       "      <td>NaN</td>\n",
       "      <td>NaN</td>\n",
       "      <td>NaN</td>\n",
       "      <td>NaN</td>\n",
       "      <td>NaN</td>\n",
       "      <td>NaN</td>\n",
       "    </tr>\n",
       "    <tr>\n",
       "      <th>1</th>\n",
       "      <td>SUV, 5 Doors, 5 Seats</td>\n",
       "      <td>NaN</td>\n",
       "      <td>214 km/h | 132.97 mph</td>\n",
       "      <td>180  Hp, 270  Nm</td>\n",
       "      <td>1.3 l</td>\n",
       "      <td>4, Inline</td>\n",
       "      <td>Front wheel drive. Internal Combustion engine....</td>\n",
       "      <td>4115  mm</td>\n",
       "      <td>1777  mm</td>\n",
       "      <td>1281  kg</td>\n",
       "      <td>...</td>\n",
       "      <td>NaN</td>\n",
       "      <td>NaN</td>\n",
       "      <td>NaN</td>\n",
       "      <td>NaN</td>\n",
       "      <td>NaN</td>\n",
       "      <td>NaN</td>\n",
       "      <td>NaN</td>\n",
       "      <td>NaN</td>\n",
       "      <td>NaN</td>\n",
       "      <td>NaN</td>\n",
       "    </tr>\n",
       "    <tr>\n",
       "      <th>2</th>\n",
       "      <td>Coupe, SUV, 5 Doors, 5 Seats</td>\n",
       "      <td>Euro 5</td>\n",
       "      <td>215 km/h | 133.59 mph</td>\n",
       "      <td>175  Hp, 270  Nm</td>\n",
       "      <td>1.3 l</td>\n",
       "      <td>4, Inline</td>\n",
       "      <td>Front wheel drive. Internal Combustion engine....</td>\n",
       "      <td>4425  mm</td>\n",
       "      <td>1780  mm</td>\n",
       "      <td>1299  kg</td>\n",
       "      <td>...</td>\n",
       "      <td>NaN</td>\n",
       "      <td>NaN</td>\n",
       "      <td>NaN</td>\n",
       "      <td>NaN</td>\n",
       "      <td>NaN</td>\n",
       "      <td>NaN</td>\n",
       "      <td>NaN</td>\n",
       "      <td>NaN</td>\n",
       "      <td>NaN</td>\n",
       "      <td>NaN</td>\n",
       "    </tr>\n",
       "    <tr>\n",
       "      <th>3</th>\n",
       "      <td>Coupe, SUV, 5 Doors, 5 Seats</td>\n",
       "      <td>NaN</td>\n",
       "      <td>219 km/h | 136.08 mph</td>\n",
       "      <td>180  Hp, 270  Nm</td>\n",
       "      <td>1.3 l</td>\n",
       "      <td>4, Inline</td>\n",
       "      <td>Front wheel drive. Internal Combustion engine....</td>\n",
       "      <td>4425  mm</td>\n",
       "      <td>1780  mm</td>\n",
       "      <td>1299  kg</td>\n",
       "      <td>...</td>\n",
       "      <td>NaN</td>\n",
       "      <td>NaN</td>\n",
       "      <td>NaN</td>\n",
       "      <td>NaN</td>\n",
       "      <td>NaN</td>\n",
       "      <td>NaN</td>\n",
       "      <td>NaN</td>\n",
       "      <td>NaN</td>\n",
       "      <td>NaN</td>\n",
       "      <td>NaN</td>\n",
       "    </tr>\n",
       "    <tr>\n",
       "      <th>4</th>\n",
       "      <td>SUV, 5 Doors, 5 Seats</td>\n",
       "      <td>NaN</td>\n",
       "      <td>200 km/h | 124.27 mph</td>\n",
       "      <td>282  Hp, 345  Nm</td>\n",
       "      <td>NaN</td>\n",
       "      <td>NaN</td>\n",
       "      <td>Front wheel drive. BEV (Electric Vehicle). One...</td>\n",
       "      <td>4187  mm</td>\n",
       "      <td>1779  mm</td>\n",
       "      <td>1625  kg</td>\n",
       "      <td>...</td>\n",
       "      <td>NaN</td>\n",
       "      <td>NaN</td>\n",
       "      <td>NaN</td>\n",
       "      <td>NaN</td>\n",
       "      <td>NaN</td>\n",
       "      <td>NaN</td>\n",
       "      <td>NaN</td>\n",
       "      <td>NaN</td>\n",
       "      <td>NaN</td>\n",
       "      <td>NaN</td>\n",
       "    </tr>\n",
       "  </tbody>\n",
       "</table>\n",
       "<p>5 rows × 209 columns</p>\n",
       "</div>"
      ],
      "text/plain": [
       "                    q_body_type   q_eco                q_speed  \\\n",
       "0         SUV, 5 Doors, 5 Seats  Euro 5  210 km/h | 130.49 mph   \n",
       "1         SUV, 5 Doors, 5 Seats     NaN  214 km/h | 132.97 mph   \n",
       "2  Coupe, SUV, 5 Doors, 5 Seats  Euro 5  215 km/h | 133.59 mph   \n",
       "3  Coupe, SUV, 5 Doors, 5 Seats     NaN  219 km/h | 136.08 mph   \n",
       "4         SUV, 5 Doors, 5 Seats     NaN  200 km/h | 124.27 mph   \n",
       "\n",
       "            q_power q_engine_size q_n_cylinders  \\\n",
       "0  175  Hp, 270  Nm         1.3 l     4, Inline   \n",
       "1  180  Hp, 270  Nm         1.3 l     4, Inline   \n",
       "2  175  Hp, 270  Nm         1.3 l     4, Inline   \n",
       "3  180  Hp, 270  Nm         1.3 l     4, Inline   \n",
       "4  282  Hp, 345  Nm           NaN           NaN   \n",
       "\n",
       "                                        q_drivetrain  q_length   q_width  \\\n",
       "0  Front wheel drive. Internal Combustion engine....  4115  mm  1777  mm   \n",
       "1  Front wheel drive. Internal Combustion engine....  4115  mm  1777  mm   \n",
       "2  Front wheel drive. Internal Combustion engine....  4425  mm  1780  mm   \n",
       "3  Front wheel drive. Internal Combustion engine....  4425  mm  1780  mm   \n",
       "4  Front wheel drive. BEV (Electric Vehicle). One...  4187  mm  1779  mm   \n",
       "\n",
       "  q_curb_weight  ... Fuel consumption (economy) - extra urban (CNG)  \\\n",
       "0      1280  kg  ...                                            NaN   \n",
       "1      1281  kg  ...                                            NaN   \n",
       "2      1299  kg  ...                                            NaN   \n",
       "3      1299  kg  ...                                            NaN   \n",
       "4      1625  kg  ...                                            NaN   \n",
       "\n",
       "  Fuel consumption (economy) - combined (CNG) Power (CNG)  \\\n",
       "0                                         NaN         NaN   \n",
       "1                                         NaN         NaN   \n",
       "2                                         NaN         NaN   \n",
       "3                                         NaN         NaN   \n",
       "4                                         NaN         NaN   \n",
       "\n",
       "  Power per litre (CNG) Torque (CNG) Acceleration 0 - 100 km/h (CNG)  \\\n",
       "0                   NaN          NaN                             NaN   \n",
       "1                   NaN          NaN                             NaN   \n",
       "2                   NaN          NaN                             NaN   \n",
       "3                   NaN          NaN                             NaN   \n",
       "4                   NaN          NaN                             NaN   \n",
       "\n",
       "  Maximum speed (CNG)  \\\n",
       "0                 NaN   \n",
       "1                 NaN   \n",
       "2                 NaN   \n",
       "3                 NaN   \n",
       "4                 NaN   \n",
       "\n",
       "  Fuel consumption (economy) - urban (CNG) (NEDC, WLTP equivalent)  \\\n",
       "0                                                NaN                 \n",
       "1                                                NaN                 \n",
       "2                                                NaN                 \n",
       "3                                                NaN                 \n",
       "4                                                NaN                 \n",
       "\n",
       "  Fuel consumption (economy) - extra urban (CNG) (NEDC, WLTP equivalent)  \\\n",
       "0                                                NaN                       \n",
       "1                                                NaN                       \n",
       "2                                                NaN                       \n",
       "3                                                NaN                       \n",
       "4                                                NaN                       \n",
       "\n",
       "  Fuel consumption (economy) - combined (CNG) (NEDC, WLTP equivalent)  \n",
       "0                                                NaN                   \n",
       "1                                                NaN                   \n",
       "2                                                NaN                   \n",
       "3                                                NaN                   \n",
       "4                                                NaN                   \n",
       "\n",
       "[5 rows x 209 columns]"
      ]
     },
     "execution_count": 1,
     "metadata": {},
     "output_type": "execute_result"
    }
   ],
   "source": [
    "import pandas as pd\n",
    "df = pd.read_csv('data/search_method/cars_filtered.csv')\n",
    "df.head()"
   ]
  },
  {
   "cell_type": "code",
   "execution_count": 3,
   "metadata": {},
   "outputs": [
    {
     "data": {
      "text/plain": [
       "6078"
      ]
     },
     "execution_count": 3,
     "metadata": {},
     "output_type": "execute_result"
    }
   ],
   "source": [
    "df['Generation'].nunique()"
   ]
  },
  {
   "cell_type": "code",
   "execution_count": 5,
   "metadata": {},
   "outputs": [
    {
     "data": {
      "text/plain": [
       "333"
      ]
     },
     "execution_count": 5,
     "metadata": {},
     "output_type": "execute_result"
    }
   ],
   "source": [
    "df['Brand'].nunique()"
   ]
  },
  {
   "cell_type": "code",
   "execution_count": 7,
   "metadata": {},
   "outputs": [
    {
     "data": {
      "text/plain": [
       "2389"
      ]
     },
     "execution_count": 7,
     "metadata": {},
     "output_type": "execute_result"
    }
   ],
   "source": [
    "df['Model'].nunique()"
   ]
  }
 ],
 "metadata": {
  "kernelspec": {
   "display_name": "Python 3",
   "language": "python",
   "name": "python3"
  },
  "language_info": {
   "codemirror_mode": {
    "name": "ipython",
    "version": 3
   },
   "file_extension": ".py",
   "mimetype": "text/x-python",
   "name": "python",
   "nbconvert_exporter": "python",
   "pygments_lexer": "ipython3",
   "version": "3.11.5"
  }
 },
 "nbformat": 4,
 "nbformat_minor": 2
}
