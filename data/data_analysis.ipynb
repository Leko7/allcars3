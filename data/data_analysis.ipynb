{
 "cells": [
  {
   "cell_type": "code",
   "execution_count": null,
   "metadata": {},
   "outputs": [
    {
     "name": "stdout",
     "output_type": "stream",
     "text": [
      "c:\\Users\\sebas\\Desktop\\universit\\IASD\\Dataacquisition\\cars\\allcars3\\data\n",
      "Index(['Brand', 'Body type', 'Battery voltage', 'Battery technology',\n",
      "       'Battery weight', 'Battery location'],\n",
      "      dtype='object')\n",
      "['Abarth' 'AC' 'Acura' 'AITO' 'Aiways' 'Aixam' 'Alfa Romeo' 'Anfini'\n",
      " 'Apollo' 'Alpina' 'Alpine' 'Appollen' 'Arcfox' 'Aria' 'Ariel' 'Aro'\n",
      " 'Artega' 'Asia' 'Aspark' 'Aston Martin' 'Astro' 'Audi' 'Aurus']\n",
      "45\n",
      "                    q_body_type   q_eco                q_speed  \\\n",
      "0         SUV, 5 Doors, 5 Seats  Euro 5  210 km/h | 130.49 mph   \n",
      "1         SUV, 5 Doors, 5 Seats     NaN  214 km/h | 132.97 mph   \n",
      "2  Coupe, SUV, 5 Doors, 5 Seats  Euro 5  215 km/h | 133.59 mph   \n",
      "3  Coupe, SUV, 5 Doors, 5 Seats     NaN  219 km/h | 136.08 mph   \n",
      "4         SUV, 5 Doors, 5 Seats     NaN  200 km/h | 124.27 mph   \n",
      "\n",
      "            q_power q_engine_size q_n_cylinders  \\\n",
      "0  175  Hp, 270  Nm         1.3 l     4, Inline   \n",
      "1  180  Hp, 270  Nm         1.3 l     4, Inline   \n",
      "2  175  Hp, 270  Nm         1.3 l     4, Inline   \n",
      "3  180  Hp, 270  Nm         1.3 l     4, Inline   \n",
      "4  282  Hp, 345  Nm           NaN           NaN   \n",
      "\n",
      "                                        q_drivetrain  q_length   q_width  \\\n",
      "0  Front wheel drive. Internal Combustion engine....  4115  mm  1777  mm   \n",
      "1  Front wheel drive. Internal Combustion engine....  4115  mm  1777  mm   \n",
      "2  Front wheel drive. Internal Combustion engine....  4425  mm  1780  mm   \n",
      "3  Front wheel drive. Internal Combustion engine....  4425  mm  1780  mm   \n",
      "4  Front wheel drive. BEV (Electric Vehicle). One...  4187  mm  1779  mm   \n",
      "\n",
      "  q_curb_weight  \n",
      "0      1280  kg  \n",
      "1      1281  kg  \n",
      "2      1299  kg  \n",
      "3      1299  kg  \n",
      "4      1625  kg  \n"
     ]
    }
   ],
   "source": [
    "import pandas as pd\n",
    "import numpy as np\n",
    "\n",
    "# print current working directory\n",
    "import os\n",
    "print(os.getcwd())\n",
    "\n",
    "# read csv file\n",
    "df = pd.read_csv('cars_filtered.csv')\n",
    "\n",
    "# print the column names that begins with 'm'\n",
    "print(df.columns[df.columns.str.startswith('B')])\n",
    "\n",
    "# unique values of Brand column\n",
    "print(df['Brand'].unique())\n",
    "\n",
    "# nunber of columns name that contains '?' in the column name\n",
    "print(sum(df.columns.str.contains('\\-')))"
   ]
  },
  {
   "cell_type": "code",
   "execution_count": 120,
   "metadata": {},
   "outputs": [],
   "source": [
    "cols = df.columns.tolist()\n",
    "i = 0"
   ]
  },
  {
   "cell_type": "code",
   "execution_count": 178,
   "metadata": {},
   "outputs": [
    {
     "data": {
      "text/html": [
       "<div>\n",
       "<style scoped>\n",
       "    .dataframe tbody tr th:only-of-type {\n",
       "        vertical-align: middle;\n",
       "    }\n",
       "\n",
       "    .dataframe tbody tr th {\n",
       "        vertical-align: top;\n",
       "    }\n",
       "\n",
       "    .dataframe thead th {\n",
       "        text-align: right;\n",
       "    }\n",
       "</style>\n",
       "<table border=\"1\" class=\"dataframe\">\n",
       "  <thead>\n",
       "    <tr style=\"text-align: right;\">\n",
       "      <th></th>\n",
       "    </tr>\n",
       "  </thead>\n",
       "  <tbody>\n",
       "    <tr>\n",
       "      <th>0</th>\n",
       "    </tr>\n",
       "    <tr>\n",
       "      <th>1</th>\n",
       "    </tr>\n",
       "    <tr>\n",
       "      <th>2</th>\n",
       "    </tr>\n",
       "    <tr>\n",
       "      <th>3</th>\n",
       "    </tr>\n",
       "    <tr>\n",
       "      <th>4</th>\n",
       "    </tr>\n",
       "    <tr>\n",
       "      <th>...</th>\n",
       "    </tr>\n",
       "    <tr>\n",
       "      <th>1689</th>\n",
       "    </tr>\n",
       "    <tr>\n",
       "      <th>1690</th>\n",
       "    </tr>\n",
       "    <tr>\n",
       "      <th>1691</th>\n",
       "    </tr>\n",
       "    <tr>\n",
       "      <th>1692</th>\n",
       "    </tr>\n",
       "    <tr>\n",
       "      <th>1693</th>\n",
       "    </tr>\n",
       "  </tbody>\n",
       "</table>\n",
       "<p>1694 rows × 0 columns</p>\n",
       "</div>"
      ],
      "text/plain": [
       "Empty DataFrame\n",
       "Columns: []\n",
       "Index: [0, 1, 2, 3, 4, 5, 6, 7, 8, 9, 10, 11, 12, 13, 14, 15, 16, 17, 18, 19, 20, 21, 22, 23, 24, 25, 26, 27, 28, 29, 30, 31, 32, 33, 34, 35, 36, 37, 38, 39, 40, 41, 42, 43, 44, 45, 46, 47, 48, 49, 50, 51, 52, 53, 54, 55, 56, 57, 58, 59, 60, 61, 62, 63, 64, 65, 66, 67, 68, 69, 70, 71, 72, 73, 74, 75, 76, 77, 78, 79, 80, 81, 82, 83, 84, 85, 86, 87, 88, 89, 90, 91, 92, 93, 94, 95, 96, 97, 98, 99, ...]\n",
       "\n",
       "[1694 rows x 0 columns]"
      ]
     },
     "execution_count": 178,
     "metadata": {},
     "output_type": "execute_result"
    }
   ],
   "source": [
    "i += 10\n",
    "df[cols[i:i+10]]"
   ]
  },
  {
   "cell_type": "code",
   "execution_count": 181,
   "metadata": {},
   "outputs": [
    {
     "data": {
      "text/plain": [
       "Index(['Electric motor 1', 'Electric motor 2', 'Electric motor 3',\n",
       "       'Electric motor 4'],\n",
       "      dtype='object')"
      ]
     },
     "execution_count": 181,
     "metadata": {},
     "output_type": "execute_result"
    }
   ],
   "source": [
    "# check if there are colums with only nan values\n",
    "df.columns[df.isnull().all()]"
   ]
  },
  {
   "cell_type": "code",
   "execution_count": null,
   "metadata": {},
   "outputs": [
    {
     "name": "stdout",
     "output_type": "stream",
     "text": [
      "No columns found with \"?\" in their name\n"
     ]
    }
   ],
   "source": [
    "# print all columns whose name end with '?'\n",
    "check = False\n",
    "for col in df_audi.columns:\n",
    "    if col.endswith('?'):\n",
    "        print(col)\n",
    "        check = True\n",
    "\n",
    "if not check:\n",
    "    print('No columns found with \"?\" in their name')\n",
    "        "
   ]
  },
  {
   "cell_type": "code",
   "execution_count": 83,
   "metadata": {},
   "outputs": [
    {
     "name": "stdout",
     "output_type": "stream",
     "text": [
      "    gross_weight                        Generation Gross battery capacity\n",
      "0       2095  kg  A3 allstreet (8Y, facelift 2024)               25.7 kWh\n",
      "1       3180  kg                         Q8 e-tron                114 kWh\n",
      "2       2870  kg                   A6 Avant e-tron                100 kWh\n",
      "3       2860  kg               A6 Sportback e-tron                100 kWh\n",
      "4       2685  kg                   A6 Avant e-tron                 83 kWh\n",
      "..           ...                               ...                    ...\n",
      "499          NaN                 Q3 Sportback (F3)                    NaN\n",
      "500     2045  kg                 Q3 Sportback (F3)                    NaN\n",
      "501     2850  kg        Q7 (Typ 4M, facelift 2019)                0.5 kWh\n",
      "502     2830  kg        Q7 (Typ 4M, facelift 2019)                0.5 kWh\n",
      "503     2210  kg                 Q3 Sportback (F3)                    NaN\n",
      "\n",
      "[504 rows x 3 columns]\n"
     ]
    }
   ],
   "source": [
    "print(df_audi.filter(regex='^[Gg]', axis=1))"
   ]
  },
  {
   "cell_type": "code",
   "execution_count": 99,
   "metadata": {},
   "outputs": [
    {
     "name": "stdout",
     "output_type": "stream",
     "text": [
      "First entry of speed: 225 km/h | 139.81 mph\n",
      "index_list: [310]\n",
      "Entries that contain \"<\" in speed column: 310    0-100 km/h: <4  sec\n",
      "Name: speed, dtype: object\n",
      "[<class 'str'>]\n",
      "Length of speed column: 504\n",
      "Max speed in speed column: 501\n",
      "Number of entries with \"<\" in speed column: 1\n",
      "Number of entries with \"nan\" in speed column: 2\n"
     ]
    }
   ],
   "source": [
    "# Print all name of columns whose name starts with 's' or 'S'\n",
    "\n",
    "# print(df_audi.filter(regex='^[sS]', axis=1))\n",
    "\n",
    "# print first entry of speed\n",
    "print(f'First entry of speed: {df_audi[\"speed\"][0]}')\n",
    "\n",
    "index_list = df_audi['speed'][df_audi['speed'].apply(lambda x: '<' in x)].index\n",
    "index_list = list(index_list)\n",
    "\n",
    "print(f'index_list: {index_list}')\n",
    "# print the entries that contain '<' in the 'speed' column\n",
    "print(f'Entries that contain \"<\" in speed column: {df_audi[\"speed\"][index_list]}')\n",
    "\n",
    "\n",
    "\n",
    "# print all data types in the 'speed' column\n",
    "print(df_audi['speed'].apply(lambda x: type(x)).unique())\n",
    "\n",
    "\n",
    "# print the length of the 'speed' column\n",
    "print(f'Length of speed column: {len(df_audi[\"speed\"])}')\n",
    "\n",
    "#count the number of entries that contain 'mph' in the 'speed' column\n",
    "print(f'Max speed in speed column: {df_audi[\"speed\"].apply(lambda x: \"mph\" in x).sum()}')\n",
    "\n",
    "# print the number of entries that contain '<' in the 'speed' column\n",
    "print(f'Number of entries with \"<\" in speed column: {df_audi[\"speed\"].apply(lambda x: \"<\" in x).sum()}')\n",
    "\n",
    "# print the number of entries that are == 'nan' in the 'speed' column\n",
    "print(f'Number of entries with \"nan\" in speed column: {df_audi[\"speed\"].apply(lambda x: x == \"nan\").sum()}')\n"
   ]
  }
 ],
 "metadata": {
  "kernelspec": {
   "display_name": "Python 3",
   "language": "python",
   "name": "python3"
  },
  "language_info": {
   "codemirror_mode": {
    "name": "ipython",
    "version": 3
   },
   "file_extension": ".py",
   "mimetype": "text/x-python",
   "name": "python",
   "nbconvert_exporter": "python",
   "pygments_lexer": "ipython3",
   "version": "3.10.11"
  }
 },
 "nbformat": 4,
 "nbformat_minor": 2
}
