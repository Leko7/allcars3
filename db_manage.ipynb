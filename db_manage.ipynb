{
 "cells": [
  {
   "cell_type": "code",
   "execution_count": 1,
   "metadata": {},
   "outputs": [],
   "source": [
    "import sqlite3\n",
    "import pandas as pd\n",
    "import os\n",
    "import pickle\n"
   ]
  },
  {
   "cell_type": "markdown",
   "metadata": {},
   "source": [
    "# Why Python Pickle is used?\n",
    "The pickle module in Python is used for serializing and deserializing Python objects. Serialization is the process of converting a Python object into a byte stream, which can then be stored in a file, sent over a network, or saved in a database. Deserialization is the reverse process, where the byte stream is converted back into a Python object."
   ]
  },
  {
   "cell_type": "code",
   "execution_count": 2,
   "metadata": {},
   "outputs": [],
   "source": [
    "# open the csv file and add a new column with the image link\n",
    "\n",
    "csv_file = 'data/prova/a.csv'\n",
    "df = pd.read_csv(csv_file)\n",
    "df['image_path'] = 'temp_images\\AC_Ace_Ace Bristol'\n",
    "df.to_csv('data/prova/a.csv', index=False)"
   ]
  },
  {
   "cell_type": "code",
   "execution_count": 3,
   "metadata": {},
   "outputs": [
    {
     "data": {
      "text/plain": [
       "CompletedProcess(args='sqlite3 data/prova/my_cars.db \".mode csv\" \".import data/prova/a.csv my_table\"', returncode=0)"
      ]
     },
     "execution_count": 3,
     "metadata": {},
     "output_type": "execute_result"
    }
   ],
   "source": [
    "# In this block we make a new table in the database from the csv file\n",
    "\n",
    "import subprocess\n",
    "\n",
    "# Path to the CSV file and database\n",
    "csv_file = 'data/prova/a.csv'\n",
    "db_file = 'data/prova/my_cars.db'\n",
    "table_name = 'my_table'\n",
    "\n",
    "# Command to import CSV into SQLite\n",
    "command = f'sqlite3 {db_file} \".mode csv\" \".import {csv_file} {table_name}\"'\n",
    "\n",
    "# Execute the command\n",
    "subprocess.run(command, shell=True, check=True)"
   ]
  },
  {
   "cell_type": "code",
   "execution_count": 4,
   "metadata": {},
   "outputs": [],
   "source": [
    "# Function to read image from path and convert to binary and serialize it to store in the database\n",
    "def images_to_binary(images_dir):\n",
    "    binary_images = []\n",
    "    for image_path in os.listdir(images_dir):\n",
    "        image_path = os.path.join(images_dir, image_path)\n",
    "        with open(image_path.strip(), 'rb') as file:\n",
    "            binary_images.append(file.read())\n",
    "    return pickle.dumps(binary_images)  # Serialize the list of binary images\n"
   ]
  },
  {
   "cell_type": "code",
   "execution_count": null,
   "metadata": {},
   "outputs": [],
   "source": [
    "df = pd.read_csv('data/prova/a.csv')\n",
    "df['images'] = df['image_path'].apply(images_to_binary)\n",
    "\n",
    "# TO SOLVE BEFORE ####################\n",
    "# rename the column to avoid conflict with the column names in the database\n",
    "df = df.rename(columns={\"power\": 'power_1'})\n",
    "df = df.rename(columns={\"length\": 'length_1'})\n",
    "df = df.rename(columns={\"width\": 'width_1'})\n",
    "######################################\n",
    "\n",
    "# Connessione al database SQLite (crea il database se non esiste)\n",
    "conn = sqlite3.connect(db_file)\n",
    "\n",
    "# Save the dataframe to a SQLite table\n",
    "df.to_sql(table_name, conn, if_exists='replace', index=False)\n",
    "\n",
    "# Commit the changes\n",
    "conn.commit()\n",
    "conn.close()"
   ]
  },
  {
   "cell_type": "code",
   "execution_count": 9,
   "metadata": {},
   "outputs": [],
   "source": [
    "def save_first_image(serialized_images, output_dir='output_images', output_filename='retrieved_image.jpg'):\n",
    "    # Deserialize the images\n",
    "    images = pickle.loads(serialized_images)\n",
    "    \n",
    "    # Ensure the output directory exists\n",
    "    os.makedirs(output_dir, exist_ok=True)\n",
    "    \n",
    "    # Define the output path\n",
    "    output_path = os.path.join(output_dir, output_filename)\n",
    "    \n",
    "    # Save the first image to a file\n",
    "    with open(output_path, 'wb') as file:\n",
    "        file.write(images[0])\n",
    "    \n",
    "    print(f'Image saved to {output_path}')"
   ]
  },
  {
   "cell_type": "code",
   "execution_count": null,
   "metadata": {},
   "outputs": [],
   "source": [
    "# Create a connection to the SQLite database\n",
    "conn = sqlite3.connect(db_file)\n",
    "\n",
    "# Read the data from the table into a pandas DataFrame\n",
    "df_solo = pd.read_sql_query(f'SELECT * FROM {table_name}', conn)\n",
    "\n",
    "\n",
    "# Close the connection\n",
    "conn.close()\n",
    "\n",
    "imgs = df['images'][1]\n",
    "\n",
    "save_first_image(imgs)"
   ]
  }
 ],
 "metadata": {
  "kernelspec": {
   "display_name": "Python 3",
   "language": "python",
   "name": "python3"
  },
  "language_info": {
   "codemirror_mode": {
    "name": "ipython",
    "version": 3
   },
   "file_extension": ".py",
   "mimetype": "text/x-python",
   "name": "python",
   "nbconvert_exporter": "python",
   "pygments_lexer": "ipython3",
   "version": "3.10.11"
  }
 },
 "nbformat": 4,
 "nbformat_minor": 2
}
